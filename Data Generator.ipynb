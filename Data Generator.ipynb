{
 "cells": [
  {
   "cell_type": "code",
   "execution_count": 95,
   "metadata": {},
   "outputs": [
    {
     "name": "stdout",
     "output_type": "stream",
     "text": [
      "['index', 'priority', 'data length', 'power of nodes']\n"
     ]
    }
   ],
   "source": [
    "import csv\n",
    "import numpy as np\n",
    "import math\n",
    "\n",
    "data_count = 1000\n",
    "\n",
    "data_list = [['priority', 'c', 0, 10], ['data length', 'n', 512], ['power of nodes', 'n', 10]]\n",
    "\n",
    "#prepare output file\n",
    "file = open('ouptut.csv', 'w', encoding='utf-8', newline='')\n",
    "wr = csv.writer(file)\n",
    "\n",
    "#normal distribution parameters - for numerical data\n",
    "mu, sigma = 0, 1\n",
    "\n",
    "label = ['index']\n",
    "\n",
    "i = 0\n",
    "while i < len(data_list):\n",
    "    if (data_list[i][1] == 'n'):\n",
    "        #numerical data - use normal distribution for naive data generation\n",
    "        dist = np.random.normal(data_list[i][2], data_list[i][2] * sigma, data_count)\n",
    "        #calcaulate values for nonzero\n",
    "        j = 0\n",
    "        while j < len(dist):\n",
    "            if dist[j] < 0:\n",
    "                dist[j] *= -1\n",
    "            j += 1\n",
    "        \n",
    "    else:\n",
    "        #categorical data - use uniform distribution for naive data generation\n",
    "        dist = np.random.uniform(low=data_list[i][2], high=data_list[i][3], size = data_count).round(0)\n",
    "        \n",
    "    data_list[i].append(dist)\n",
    "    label.append(data_list[i][0])\n",
    "    i += 1\n",
    "\n",
    "print(label)\n",
    "#print(data_list[1])\n",
    "wr.writerow(label)\n",
    "\n",
    "i = 0\n",
    "while i < data_count:\n",
    "    j = 0 \n",
    "    line = [i]\n",
    "    while j < len(data_list):\n",
    "        line.append(data_list[j][len(data_list[j])-1][i])\n",
    "        j+=1\n",
    "    wr.writerow(line)       \n",
    "    i+=1\n",
    "\n",
    "file.close()\n"
   ]
  },
  {
   "cell_type": "code",
   "execution_count": null,
   "metadata": {},
   "outputs": [],
   "source": []
  }
 ],
 "metadata": {
  "kernelspec": {
   "display_name": "Python 3",
   "language": "python",
   "name": "python3"
  },
  "language_info": {
   "codemirror_mode": {
    "name": "ipython",
    "version": 3
   },
   "file_extension": ".py",
   "mimetype": "text/x-python",
   "name": "python",
   "nbconvert_exporter": "python",
   "pygments_lexer": "ipython3",
   "version": "3.7.4"
  }
 },
 "nbformat": 4,
 "nbformat_minor": 2
}
